{
  "nbformat": 4,
  "nbformat_minor": 0,
  "metadata": {
    "colab": {
      "provenance": []
    },
    "kernelspec": {
      "name": "python3",
      "display_name": "Python 3"
    },
    "language_info": {
      "name": "python"
    }
  },
  "cells": [
    {
      "cell_type": "markdown",
      "source": [
        "**Python Basics Questions**"
      ],
      "metadata": {
        "id": "sM9ZpSWOQfgV"
      }
    },
    {
      "cell_type": "markdown",
      "source": [
        "Q1) What is Python, and why is it popular?\n",
        "\n",
        "A1) Python is a high-level, interpreted programming language known for its clean syntax and ease of learning. It was created by Guido van Rossum and first released in 1991.\n",
        "\n",
        "Python has gained popularity for several key reasons:\n",
        "\n",
        "\n",
        "\n",
        "* **Widely Used in Industry**: Python is trusted and used by top companies such as Google, Netflix, Instagram, and NASA. Its reliability, scalability, and developer-friendly nature make it a go-to language for real-world applications across tech, finance, healthcare, and more.\n",
        "\n",
        "* **Rich Ecosystem**: Python provides a vast collection of well-maintained libraries and frameworks for web development, data analysis, and machine learning, enabling faster and more efficient application development.\n",
        "\n",
        "* **Readable and Simple Syntax:** Python code is easy to write and understand, even for beginners.\n",
        "\n",
        "* **Large Community and Support:** A strong global community offers libraries, frameworks, and quick help.\n",
        "\n"
      ],
      "metadata": {
        "id": "YFoFaWH8QgX8"
      }
    },
    {
      "cell_type": "markdown",
      "source": [
        "Q2) What is an interpreter in Python?\n",
        "\n",
        "A2) An interpreter in Python is a program that runs your Python code line by line,translating it into actions your computer can perform immediately."
      ],
      "metadata": {
        "id": "6bBo9WV5gwjK"
      }
    },
    {
      "cell_type": "markdown",
      "source": [
        "Q3) What are pre-defined keywords in Python?\n",
        "\n",
        "A3) Pre-defined keywords in Python are special reserved words that have a specific meaning and purpose in the language. You can't use these words as variable names or identifiers because Python uses them to understand the structure and commands of your code.\n",
        "\n",
        "Examples of these keywords are:\n",
        "\n",
        "* **if, else, elif** - used for decision making\n",
        "\n",
        "* **for, while** - used for loops\n",
        "\n",
        "* **False** - Boolean value that represents \"not true\"\n",
        "\n",
        "* **None**- represents the absence of a value (null-like)\n",
        "\n",
        "There are about 35 such keywords in Python, and they form the foundation of the language.To see the full list of keywords in your version of Python, you can run:\n",
        "\n",
        " **help ('keywords')**\n",
        "\n",
        "\n",
        "\n",
        "\n",
        "\n"
      ],
      "metadata": {
        "id": "vvhj4QWNhwOh"
      }
    },
    {
      "cell_type": "markdown",
      "source": [
        "Q4) Can keywords be used as variable names?\n",
        "\n",
        "A4) No, keywords cannot be used as variable names in Python.Python keywords are reserved words that have special meaning in the language—like if, while, for, etc. These are part of the syntax, so using them as variable names would confuse Python."
      ],
      "metadata": {
        "id": "HupGPehFmoDl"
      }
    },
    {
      "cell_type": "markdown",
      "source": [
        "Q5) What is mutability in Python?\n",
        "\n",
        "A5) Mutability in Python refers to an object's ability to change its internal state or contents after it has been created.\n",
        "\n",
        "Objects whose state or value can be changed after they are created are called as mutable objects.\n",
        "\n",
        "\n",
        "* list is a type of mutable Object\n",
        "\n"
      ],
      "metadata": {
        "id": "oPjBdwmehCUI"
      }
    },
    {
      "cell_type": "markdown",
      "source": [
        "Q6) Why are lists mutable, but tuples are immutable?\n",
        "\n",
        "A6) Lists are mutable because they're designed to store a collection of items that might change. You can add, remove, or modify elements in a list after it's created. Think of a list like a whiteboard where you can write, erase, and rearrange as much as you want.\n",
        "\n",
        "Tuples are immutable because they're meant to be fixed collections of items. Once you create a tuple, it's locked — you can't change its contents. This makes them more secure and efficient for things like keys in dictionaries or when you want to make sure data doesn't accidentally change.\n",
        "\n",
        "So, lists are for flexibility, while tuples are for stability."
      ],
      "metadata": {
        "id": "aQbMJumpQcs1"
      }
    },
    {
      "cell_type": "markdown",
      "source": [
        "Q7) What is the difference between “==” and “is” operators in Python?\n",
        "\n",
        "A7) Difference Between \"==\" and \"is\" in Python\n",
        "In Python, we use both == and is to compare things — but they don't mean the same thing.\n",
        "\n",
        "\"==\" means Are these equal?\n",
        "\n",
        "This checks if two things have the same value.\n",
        "Even if they're stored in different places in memory, if their contents are the same, == will return True.\n",
        "\n",
        "**Use** \"==\" when you want to check if values are the same.\n",
        "\n",
        "\"is\" means Are these the exact same object?\n",
        "\n",
        "This checks if two things are literally the same thing in memory.\n",
        "\n",
        "**Use** \"is\" when you want to check if you're pointing to the exact same object in memory.\n",
        "\n",
        "\n"
      ],
      "metadata": {
        "id": "49w20afZ5q3D"
      }
    },
    {
      "cell_type": "markdown",
      "source": [
        "Q8) What are logical operators in Python?\n",
        "\n",
        "A8) Logical operators in Python are like the connectors in everyday decision-making. They help your code answer questions when there's more than one condition involved.\n",
        "\n",
        "Think of them as the words **and, or,** and **not** that you use all the time:\n",
        "\n",
        "* **and** means both things need to be true. For example\n",
        "\n",
        "  “I'll go out and buy ice cream if I finish work and it's not raining.” Both conditions have to happen.\n",
        "\n",
        "* **or** means at least one thing needs to be true. Like,\n",
        "   “I'll watch a movie or read a book.” I'm happy doing either one.\n",
        "\n",
        "* **not** flips the truth around. If something is true,  not turns it false. It's like saying, “I'm not going outside,” meaning if going outside was true before, now it's false.\n",
        "\n",
        "So, logical operators help your program combine simple true/false checks into bigger, smarter decisions."
      ],
      "metadata": {
        "id": "rQBcYAwC-2fd"
      }
    },
    {
      "cell_type": "markdown",
      "source": [
        "Q9) What is type casting in Python?\n",
        "\n",
        "A9) Type casting, also called type conversion, is the process of changing the data type of a value or object in Python. This is important because when you're doing computations or using operators, sometimes the data types don't match — for example, trying to add a string and a number. To avoid errors or unexpected results, you convert one type to another so they work together properly.\n",
        "\n",
        "In Python, you do this using built-in functions like **int(), float(), str(), and bool()** to convert values from one type to another."
      ],
      "metadata": {
        "id": "vibuSfolLOP-"
      }
    },
    {
      "cell_type": "markdown",
      "source": [
        "Q10) What is the difference between implicit and explicit type casting?\n",
        "\n",
        "A10) Type casting is the process of converting the value of one data type to another. It can be done in two ways: **implicit** and **explicit**.\n",
        "\n",
        "  **Implicit Type Casting**\n",
        "\n",
        "* Also known as automatic type conversion.\n",
        "\n",
        "* The interpreter or compiler performs the conversion\n",
        "automatically, without any user involvement.\n",
        "\n",
        "* It typically occurs when converting from a smaller or less precise data type to a larger or more precise one (e.g., **int** to **float**).\n",
        "\n",
        "* This helps avoid data loss and ensures compatibility during operations.\n",
        "\n",
        "\n",
        "**Explicit Type Casting**\n",
        "\n",
        "* Also known as manual type conversion.\n",
        "\n",
        "* The programmer performs the conversion deliberately using built-in functions like **int()**, **float()**, **str()**, and **bool()**.\n",
        "\n",
        "* Used when automatic conversion is not possible or when you want more control over the data type.\n",
        "\n",
        "* May result in loss of data or precision (e.g., converting **float** to **int**)."
      ],
      "metadata": {
        "id": "z8g1-Z4vP1BB"
      }
    },
    {
      "cell_type": "markdown",
      "source": [
        "Q11) What is the purpose of conditional statements in Python\n",
        "\n",
        "A11) The purpose of conditional statements in Python is to make decisions in your code based on whether a condition is true or false.\n",
        "\n",
        "In simple terms, they allow your program to choose different paths of execution. For example, you might want your code to do something only if a certain condition is met—like checking if someone is old enough to vote, or if a number is positive or negative.\n",
        "\n",
        "Python uses keywords like **if, elif,** and **else** for this.\n",
        "\n",
        "So in short: Conditional statements help your program think and act accordingly."
      ],
      "metadata": {
        "id": "VD-HkYI_m6vB"
      }
    },
    {
      "cell_type": "markdown",
      "source": [
        "Q12) How does the elif statement work?\n",
        "\n",
        "A12) The elif (short for “else if”) statement is used when you want to check multiple conditions one after another.\n",
        "\n",
        "It works like this:\n",
        "\n",
        "* Python checks the first if condition.\n",
        "\n",
        "* If it's True, it runs that block of code and skips the rest (including any elif or else).\n",
        "\n",
        "* If the first if is False, it checks the next elif.\n",
        "\n",
        "* If that elif is True, it runs that code and skips the rest.\n",
        "\n",
        "* You can have as many elif statements as you need.\n",
        "\n",
        "* Optionally, you can end with an else to catch everything that didn't match."
      ],
      "metadata": {
        "id": "OjfNgGD4mCB8"
      }
    },
    {
      "cell_type": "markdown",
      "source": [
        "Q13) What is the difference between for and while loops?\n",
        "\n",
        "A13)  Difference Between **for** and **while** Loops\n",
        "In programming, loops are used to repeat a block of code multiple times. Python provides two main types of loops: **for** loops and **while** loops. While both are used to perform repetitive tasks, they differ in how and when they run.\n",
        "\n",
        "**For Loop**\n",
        "\n",
        "* Used when the number of iterations is known beforehand.\n",
        "\n",
        "* Iterates over a sequence like a list, string, or range.\n",
        "\n",
        "* Commonly used for counting or looping through items.\n",
        "\n",
        "* Automatically handles the loop counter.\n",
        "\n",
        "* Loop ends after going through all elements or reaching the set range.\n",
        "\n",
        "**While Loop**\n",
        "\n",
        "* Used when the number of iterations is not known in advance.\n",
        "\n",
        "* Continues to execute as long as a condition remains true.\n",
        "\n",
        "* Commonly used when looping depends on a changing condition.\n",
        "\n",
        "* Requires manual update of the condition inside the loop.\n",
        "\n",
        "* Risk of infinite loop if condition never becomes false."
      ],
      "metadata": {
        "id": "S-yOrzm8pfj6"
      }
    },
    {
      "cell_type": "markdown",
      "source": [
        "Q14) Describe a scenario where a while loop is more suitable than a for loop.\n",
        "\n",
        "A14) A while loop is more suitable than a for loop when you don't know ahead of time how many times you need to loop. You're basically saying, “Keep doing this until some condition is no longer true.”\n",
        "\n",
        "**Scenario**:\n",
        "\n",
        "Imagine you're writing a program that asks a user to enter their password until they get it right.\n",
        "\n",
        "You don't know how many tries the user will need — could be once, could be five times. This is where a while loop makes more sense.\n",
        "\n",
        "```\n",
        "correct_password = \"chatgpt123\"\n",
        "user_input = \"\"\n",
        "\n",
        "while user_input != correct_password:\n",
        "    user_input = input(\"Enter your password: \")\n",
        "\n",
        "```\n",
        "\n",
        "This loop keeps running as long as the password is wrong. A for loop wouldn't work well here because there's no fixed number of attempts, it's based on a condition being met."
      ],
      "metadata": {
        "id": "7hEtaj8_sS6K"
      }
    },
    {
      "cell_type": "code",
      "source": [
        "#Question 1) Write a Python program to print \"Hello, World!\"?\n",
        "\n",
        "print (\"Hello, World!\")"
      ],
      "metadata": {
        "colab": {
          "base_uri": "https://localhost:8080/"
        },
        "id": "ozrBrTCl9KDc",
        "outputId": "ae218baf-1207-4b8b-a410-41809da97b4b"
      },
      "execution_count": null,
      "outputs": [
        {
          "output_type": "stream",
          "name": "stdout",
          "text": [
            "Hello, World!\n"
          ]
        }
      ]
    },
    {
      "cell_type": "code",
      "source": [
        "#Question 2) Write a Python program that displays your name and age?\n",
        "\n",
        "print(\"My Name is Tanya Arora\")\n",
        "print(\"I am 23 years old\")"
      ],
      "metadata": {
        "colab": {
          "base_uri": "https://localhost:8080/"
        },
        "id": "awkMmb0t97LO",
        "outputId": "ae5eaa93-c5a3-45b9-ba11-b685d3a80307"
      },
      "execution_count": null,
      "outputs": [
        {
          "output_type": "stream",
          "name": "stdout",
          "text": [
            "My Name is Tanya Arora\n",
            "I am 23 years old\n"
          ]
        }
      ]
    },
    {
      "cell_type": "code",
      "source": [
        "#Question 3) Write code to print all the pre-defined keywords in Python using the keyword library ?\n",
        "\n",
        "help(\"keywords\")"
      ],
      "metadata": {
        "colab": {
          "base_uri": "https://localhost:8080/"
        },
        "id": "kbPspC0BA9Yi",
        "outputId": "28eb0722-0e49-4d3b-99fc-844e90be5fe6"
      },
      "execution_count": null,
      "outputs": [
        {
          "output_type": "stream",
          "name": "stdout",
          "text": [
            "\n",
            "Here is a list of the Python keywords.  Enter any keyword to get more help.\n",
            "\n",
            "False               class               from                or\n",
            "None                continue            global              pass\n",
            "True                def                 if                  raise\n",
            "and                 del                 import              return\n",
            "as                  elif                in                  try\n",
            "assert              else                is                  while\n",
            "async               except              lambda              with\n",
            "await               finally             nonlocal            yield\n",
            "break               for                 not                 \n",
            "\n"
          ]
        }
      ]
    },
    {
      "cell_type": "code",
      "source": [
        "#Question 4) Write a program that checks if a give word is a python keyword?\n",
        "\n",
        "import keyword\n",
        "\n",
        "print (keyword.iskeyword(\"if\"))\n",
        "\n",
        "print (keyword.iskeyword(\"apple\"))"
      ],
      "metadata": {
        "id": "uyu_MZl6BqTP",
        "colab": {
          "base_uri": "https://localhost:8080/"
        },
        "outputId": "07bcd00a-c819-44b9-992f-47700a96b61a"
      },
      "execution_count": null,
      "outputs": [
        {
          "output_type": "stream",
          "name": "stdout",
          "text": [
            "True\n",
            "False\n"
          ]
        }
      ]
    },
    {
      "cell_type": "code",
      "source": [
        "#Question 5) Create a list and tuple in Python, and demonstrate how attempting to change an element works differently for each ?\n",
        "\n",
        "my_list = [10,20,30]\n",
        "my_tulip = (10,20,30)\n",
        "\n",
        "print(\"original list:\", my_list)\n",
        "\n",
        "my_list[0] = 100\n",
        "print(\"modified list:\", my_list)\n",
        "\n",
        "print(\"original tulip:\", my_tulip)\n",
        "\n",
        "try:\n",
        "  my_tulip[1] = 99\n",
        "\n",
        "  print(\"modified tulip\", my_tulip)\n",
        "\n",
        "except TypeError as e:\n",
        "  print(\"Error when modifying tuple:\",e)\n",
        "\n"
      ],
      "metadata": {
        "id": "BLwkulwcE44J",
        "colab": {
          "base_uri": "https://localhost:8080/"
        },
        "outputId": "67159b96-92f9-41c6-ecf9-31bbc9248907"
      },
      "execution_count": null,
      "outputs": [
        {
          "output_type": "stream",
          "name": "stdout",
          "text": [
            "original list: [10, 20, 30]\n",
            "modified list: [100, 20, 30]\n",
            "original tulip: (10, 20, 30)\n",
            "Error when modifying tuple: 'tuple' object does not support item assignment\n"
          ]
        }
      ]
    },
    {
      "cell_type": "code",
      "source": [
        "#Question 6 ) Write a function to demonstrate the behavior of mutable and immutable arguments.\n",
        "\n",
        "a = 5\n",
        "b = [1, 2, 3]\n",
        "\n",
        "def test(a, b):\n",
        "    a = a + 1\n",
        "    b[1] = 200\n",
        "    print(\"Inside function:\")\n",
        "    print(\"a:\", a)\n",
        "    print(\"b:\", b)\n",
        "\n",
        "print(\"Before calling function:\")\n",
        "print(\"a:\", a)\n",
        "print(\"b:\", b)\n",
        "\n",
        "test(a, b)\n",
        "\n",
        "print(\"After calling function:\")\n",
        "print(\"a:\", a)\n",
        "print(\"b:\", b)\n",
        "\n"
      ],
      "metadata": {
        "id": "umIfFzzoGDx3",
        "colab": {
          "base_uri": "https://localhost:8080/"
        },
        "outputId": "4e5aad0c-7627-4df5-e1cb-eb1a173dcd5c"
      },
      "execution_count": null,
      "outputs": [
        {
          "output_type": "stream",
          "name": "stdout",
          "text": [
            "Before calling function:\n",
            "a: 5\n",
            "b: [1, 2, 3]\n",
            "Inside function:\n",
            "a: 6\n",
            "b: [1, 200, 3]\n",
            "After calling function:\n",
            "a: 5\n",
            "b: [1, 200, 3]\n"
          ]
        }
      ]
    },
    {
      "cell_type": "code",
      "source": [
        "#Question 7) Write a program that performs basic arithmetic operations on two user-input numbers.\n",
        "\n",
        "a = 3\n",
        "b = 2\n",
        "\n",
        "print(\"add\", a+b)\n",
        "print(\"sub\", a-b)\n",
        "print(\"mul\", a*b)\n",
        "print(\"div\", a/b)\n",
        "print(\"mod\", a%b)\n",
        "print(\"power\", a*b)\n"
      ],
      "metadata": {
        "id": "8ssljCkjGQlt",
        "colab": {
          "base_uri": "https://localhost:8080/"
        },
        "outputId": "71975d83-a1b7-4e70-eca6-d6ea6c8854bf"
      },
      "execution_count": null,
      "outputs": [
        {
          "output_type": "stream",
          "name": "stdout",
          "text": [
            "add 5\n",
            "sub 1\n",
            "mul 6\n",
            "div 1.5\n",
            "mod 1\n",
            "power 6\n"
          ]
        }
      ]
    },
    {
      "cell_type": "code",
      "source": [
        "#Question 8) Write a program to demonstrate the use of logical operators.\n",
        "\n",
        "# Program to demonstrate logical operators in Python\n",
        "\n",
        "a = True\n",
        "b = False\n",
        "\n",
        "print(\"a =\", a)\n",
        "print(\"b =\", b)\n",
        "\n",
        "# AND operator\n",
        "print(\"a and b:\", a and b)\n",
        "\n",
        "# OR operator\n",
        "print(\"a or b:\", a or b)\n",
        "\n",
        "# NOT operator\n",
        "print(\"not a:\", not a)\n",
        "print(\"not b:\", not b)\n",
        "\n",
        "# Practical example\n",
        "x = 10\n",
        "y = 20\n",
        "\n",
        "if x > 5 and y > 15:\n",
        "    print(\"Both x is greater than 5 AND y is greater than 15\")\n",
        "\n",
        "if x > 5 or y < 15:\n",
        "    print(\"Either x is greater than 5 OR y is less than 15\")\n",
        "\n",
        "if not (x == y):\n",
        "    print(\"x is NOT equal to y\")\n"
      ],
      "metadata": {
        "id": "x82LhlW7GasH",
        "colab": {
          "base_uri": "https://localhost:8080/"
        },
        "outputId": "75b7b8d1-49f7-41be-ccb4-54ae9dee20f8"
      },
      "execution_count": null,
      "outputs": [
        {
          "output_type": "stream",
          "name": "stdout",
          "text": [
            "a = True\n",
            "b = False\n",
            "a and b: False\n",
            "a or b: True\n",
            "not a: False\n",
            "not b: True\n",
            "Both x is greater than 5 AND y is greater than 15\n",
            "Either x is greater than 5 OR y is less than 15\n",
            "x is NOT equal to y\n"
          ]
        }
      ]
    },
    {
      "cell_type": "code",
      "source": [
        "#Question 9) Write a Python program to convert user input from string to integer, float, and boolean types.\n",
        "\n",
        "a = \"50\"  # example input as string\n",
        "\n",
        "print(\"Original value:\", a)\n",
        "print(\"Type:\", type(a))\n",
        "\n",
        "# Convert to integer\n",
        "a_int = int(a)\n",
        "print(\"As Integer:\", a_int)\n",
        "print(\"Type:\", type(a_int))\n",
        "\n",
        "# Convert to float\n",
        "a_float = float(a)\n",
        "print(\"As Float:\", a_float)\n",
        "print(\"Type:\", type(a_float))\n",
        "\n",
        "# Convert to boolean\n",
        "a_bool = bool(a)\n",
        "print(\"As Boolean:\", a_bool)\n",
        "print(\"Type:\", type(a_bool))\n"
      ],
      "metadata": {
        "id": "CGOLLBk8Gtpo",
        "colab": {
          "base_uri": "https://localhost:8080/"
        },
        "outputId": "54042638-0d3a-405d-8ce2-2c24c3f0a4e6"
      },
      "execution_count": null,
      "outputs": [
        {
          "output_type": "stream",
          "name": "stdout",
          "text": [
            "Original value: 50\n",
            "Type: <class 'str'>\n",
            "As Integer: 50\n",
            "Type: <class 'int'>\n",
            "As Float: 50.0\n",
            "Type: <class 'float'>\n",
            "As Boolean: True\n",
            "Type: <class 'bool'>\n"
          ]
        }
      ]
    },
    {
      "cell_type": "code",
      "source": [
        "#Question 10) Write code to demonstrate type casting with list elements.\n",
        "\n",
        "data = ['5', '10', '15']  # list of strings\n",
        "print(\"Original list:\", data)\n",
        "\n",
        "# Convert to integers\n",
        "data_int = [int(x) for x in data]\n",
        "print(\"List as integers:\", data_int)\n",
        "\n",
        "# Convert to floats\n",
        "data_float = [float(x) for x in data]\n",
        "print(\"List as floats:\", data_float)\n",
        "\n"
      ],
      "metadata": {
        "colab": {
          "base_uri": "https://localhost:8080/"
        },
        "id": "frs1M7aTcoKh",
        "outputId": "643b1118-2efc-4943-b43c-b9f47ca346f0"
      },
      "execution_count": null,
      "outputs": [
        {
          "output_type": "stream",
          "name": "stdout",
          "text": [
            "Original list: ['5', '10', '15']\n",
            "List as integers: [5, 10, 15]\n",
            "List as floats: [5.0, 10.0, 15.0]\n"
          ]
        }
      ]
    },
    {
      "cell_type": "code",
      "source": [
        "#Question 11) Write a program that checks if a number is positive, negative, or zero.\n",
        "\n",
        "num = -7  # example number\n",
        "\n",
        "if num > 0:\n",
        "    print(\"The number is positive.\")\n",
        "elif num < 0:\n",
        "    print(\"The number is negative.\")\n",
        "else:\n",
        "    print(\"The number is zero.\")\n"
      ],
      "metadata": {
        "colab": {
          "base_uri": "https://localhost:8080/"
        },
        "id": "uZ5gvuZteVgd",
        "outputId": "9a9dc429-86ba-4b6f-f749-a9f2163ccbab"
      },
      "execution_count": null,
      "outputs": [
        {
          "output_type": "stream",
          "name": "stdout",
          "text": [
            "The number is negative.\n"
          ]
        }
      ]
    },
    {
      "cell_type": "code",
      "source": [
        "#Question 12) Write a for loop to print numbers from 1 to 10.\n",
        "\n",
        "n = 11\n",
        "i = 1\n",
        "while i < n:\n",
        "    print(i)\n",
        "    i = i + 1"
      ],
      "metadata": {
        "colab": {
          "base_uri": "https://localhost:8080/"
        },
        "id": "BYP8tHJsejVj",
        "outputId": "2cf05cf0-e665-4096-8391-49cb98bb2b45"
      },
      "execution_count": null,
      "outputs": [
        {
          "output_type": "stream",
          "name": "stdout",
          "text": [
            "1\n",
            "2\n",
            "3\n",
            "4\n",
            "5\n",
            "6\n",
            "7\n",
            "8\n",
            "9\n",
            "10\n"
          ]
        }
      ]
    },
    {
      "cell_type": "code",
      "source": [
        "# Question 13) Find the sum of all even numbers between 1 and 50\n",
        "\n",
        "total = 0\n",
        "for num in range(1, 51):\n",
        "    if num % 2 == 0:\n",
        "        total += num\n",
        "\n",
        "print(\"Sum of even numbers between 1 and 50 is:\", total)\n"
      ],
      "metadata": {
        "colab": {
          "base_uri": "https://localhost:8080/"
        },
        "id": "wGk133i6nBUF",
        "outputId": "d1fea023-e2ec-4e2b-941f-b9f48fce7450"
      },
      "execution_count": null,
      "outputs": [
        {
          "output_type": "stream",
          "name": "stdout",
          "text": [
            "Sum of even numbers between 1 and 50 is: 650\n"
          ]
        }
      ]
    },
    {
      "cell_type": "code",
      "source": [
        " # Question 14) Write a program to reverse a string using a while loop.\n",
        "\n",
        "text = \"hello\"\n",
        "reversed_text = \"\"\n",
        "i = len(text) - 1\n",
        "\n",
        "while i >= 0:\n",
        "    reversed_text = reversed_text + text[i]\n",
        "    i = i - 1\n",
        "\n",
        "print(reversed_text)\n"
      ],
      "metadata": {
        "colab": {
          "base_uri": "https://localhost:8080/"
        },
        "id": "9ek801j8pZ5A",
        "outputId": "7289f086-aafd-450a-b290-6581cbcfa0fd"
      },
      "execution_count": null,
      "outputs": [
        {
          "output_type": "stream",
          "name": "stdout",
          "text": [
            "olleh\n"
          ]
        }
      ]
    },
    {
      "cell_type": "code",
      "source": [
        "# Question 15) Write a Python program to calculate the factorial of a number provided by the user using a while loop\n",
        "num = 6\n",
        "factorial = 1\n",
        "i = 1\n",
        "\n",
        "while i <= num:\n",
        "    factorial *= i\n",
        "    i += 1\n",
        "\n",
        "print(\"Factorial of\", num, \"is\", factorial)"
      ],
      "metadata": {
        "colab": {
          "base_uri": "https://localhost:8080/"
        },
        "id": "-E5pfMGj7epJ",
        "outputId": "f5f2bda7-ae68-4a8a-923c-68fceb4da865"
      },
      "execution_count": null,
      "outputs": [
        {
          "output_type": "stream",
          "name": "stdout",
          "text": [
            "Factorial of 6 is 720\n"
          ]
        }
      ]
    }
  ]
}